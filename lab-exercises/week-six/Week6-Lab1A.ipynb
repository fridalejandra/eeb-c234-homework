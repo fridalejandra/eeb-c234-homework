{
 "cells": [
  {
   "cell_type": "code",
   "execution_count": 1,
   "metadata": {},
   "outputs": [],
   "source": [
    "def fahr_to_celsius(temp):\n",
    "    return ((temp-32)*(5/9))"
   ]
  },
  {
   "cell_type": "code",
   "execution_count": 2,
   "metadata": {},
   "outputs": [
    {
     "data": {
      "text/plain": [
       "-14.444444444444445"
      ]
     },
     "execution_count": 2,
     "metadata": {},
     "output_type": "execute_result"
    }
   ],
   "source": [
    "fahr_to_celsius(6)"
   ]
  },
  {
   "cell_type": "code",
   "execution_count": 3,
   "metadata": {},
   "outputs": [],
   "source": [
    "cel = fahr_to_celsius(6)"
   ]
  },
  {
   "cell_type": "code",
   "execution_count": 4,
   "metadata": {},
   "outputs": [
    {
     "name": "stdout",
     "output_type": "stream",
     "text": [
      "-14.444444444444445\n"
     ]
    }
   ],
   "source": [
    "print(cel)"
   ]
  },
  {
   "cell_type": "code",
   "execution_count": 7,
   "metadata": {},
   "outputs": [],
   "source": [
    "def celsius_to_kelvin(temp_c):\n",
    "    return (temp_c+273.15)"
   ]
  },
  {
   "cell_type": "code",
   "execution_count": 9,
   "metadata": {},
   "outputs": [
    {
     "name": "stdout",
     "output_type": "stream",
     "text": [
      "freezing point of water in Kelvin: 273.15\n"
     ]
    }
   ],
   "source": [
    "print('freezing point of water in Kelvin:', celsius_to_kelvin(0.))"
   ]
  },
  {
   "cell_type": "code",
   "execution_count": 2,
   "metadata": {},
   "outputs": [],
   "source": [
    "def fahr_to_kelvin(temp_f):\n",
    "    temp_c = fahr_to_celsius(temp_f)\n",
    "    temp_k = celsius_to_kelvin(temp_c)\n",
    "    return temp_k"
   ]
  },
  {
   "cell_type": "code",
   "execution_count": 7,
   "metadata": {},
   "outputs": [],
   "source": [
    "#print('boiling point of water in Kelvin:', fahr_to_kelvin(0.))"
   ]
  },
  {
   "cell_type": "code",
   "execution_count": 21,
   "metadata": {},
   "outputs": [],
   "source": [
    "import numpy\n",
    "import matplotlib.pyplot\n",
    "\n",
    "def visualize(filename, delim=','):\n",
    "    #goal: create a function that will do the following steps:\n",
    "    \n",
    "    #1) read in the data file\n",
    "    data= numpy.loadtxt(fname=filename, delimiter=delim)\n",
    "    \n",
    "    #2) create our 3 subplot holders\n",
    "    fig = matplotlib.pyplot.figure(figsize=(10.0,3.0))\n",
    "    axes1= fig.add_subplot(1,3,1)\n",
    "    axes2= fig.add_subplot(1,3,2)\n",
    "    axes3= fig.add_subplot(1,3,3)\n",
    "\n",
    "    #3) plot each of them \n",
    "    axes1.set_ylabel('average')\n",
    "    axes1.plot(numpy.mean(data, axis=0))\n",
    "    \n",
    "    axes2.set_ylabel('max')\n",
    "    axes2.plot(numpy.max(data, axis=0))\n",
    "    \n",
    "    axes3.set_ylabel('min')\n",
    "    axes3.plot(numpy.min(data, axis=0))\n",
    "    \n",
    "    #4) we want to show the plot \n",
    "    fig.tight_layout()\n",
    "    matplotlib.pyplot.show()"
   ]
  },
  {
   "cell_type": "code",
   "execution_count": 22,
   "metadata": {},
   "outputs": [
    {
     "data": {
      "image/png": "[encoded data removed]",
      "text/plain": [
       "<Figure size 720x216 with 3 Axes>"
      ]
     },
     "metadata": {
      "needs_background": "light"
     },
     "output_type": "display_data"
    }
   ],
   "source": [
    "visualize('inflammation-01.csv')"
   ]
  },
  {
   "cell_type": "code",
   "execution_count": 23,
   "metadata": {},
   "outputs": [],
   "source": [
    "#let's say that all of these fiels were contained within a directory, names:\"data_files/\"\n",
    "import glob\n",
    "filenames = sorted(glob.glob('data_files/inflammation*.csv'))"
   ]
  },
  {
   "cell_type": "code",
   "execution_count": 24,
   "metadata": {},
   "outputs": [
    {
     "name": "stdout",
     "output_type": "stream",
     "text": [
      "[]\n"
     ]
    }
   ],
   "source": [
    "print(filenames)"
   ]
  },
  {
   "cell_type": "code",
   "execution_count": 25,
   "metadata": {},
   "outputs": [],
   "source": [
    "#let's create a for loop that would run through the list of filenames and plot the data for each filename \n",
    "for files in filenames:\n",
    "    print(files)\n",
    "    visualize(files)"
   ]
  },
  {
   "cell_type": "markdown",
   "metadata": {},
   "source": [
    "# Testing, Debugging, and Documenting Functions"
   ]
  },
  {
   "cell_type": "code",
   "execution_count": 32,
   "metadata": {},
   "outputs": [],
   "source": [
    "def offset_mean(data, target_mean_value):\n",
    "    return(data-numpy.mean(data))+target_mean_value"
   ]
  },
  {
   "cell_type": "code",
   "execution_count": 43,
   "metadata": {},
   "outputs": [],
   "source": [
    "def offset_mean(data, target_mean_value):\n",
    "    '''Return a new array containing the original data with \n",
    "    its mean offset to math the desired value , (0 by default)\n",
    "    \n",
    "    Examples\n",
    "    --------\n",
    "    >>>offset_mean([1,2,3])\n",
    "    array([-1.,0.,1.])\n",
    "    '''\n",
    "    return(data-numpy.mean(data))+target_mean_value"
   ]
  },
  {
   "cell_type": "code",
   "execution_count": 44,
   "metadata": {},
   "outputs": [
    {
     "name": "stdout",
     "output_type": "stream",
     "text": [
      "[[0. 0.]\n",
      " [0. 0.]]\n",
      "[[3. 3.]\n",
      " [3. 3.]]\n"
     ]
    }
   ],
   "source": [
    "z= numpy.zeros((2,2))\n",
    "print(z)\n",
    "\n",
    "print(offset_mean(z,3))"
   ]
  },
  {
   "cell_type": "code",
   "execution_count": 45,
   "metadata": {},
   "outputs": [
    {
     "name": "stdout",
     "output_type": "stream",
     "text": [
      "Help on function offset_mean in module __main__:\n",
      "\n",
      "offset_mean(data, target_mean_value)\n",
      "    Return a new array containing the original data with \n",
      "    its mean offset to math the desired value , (0 by default)\n",
      "    \n",
      "    Examples\n",
      "    --------\n",
      "    >>>offset_mean([1,2,3])\n",
      "    array([-1.,0.,1.])\n",
      "\n"
     ]
    }
   ],
   "source": [
    "help(offset_mean)"
   ]
  },
  {
   "cell_type": "code",
   "execution_count": 33,
   "metadata": {},
   "outputs": [],
   "source": [
    "data=numpy.loadtxt(fname='inflammation-01.csv', delimiter=',')"
   ]
  },
  {
   "cell_type": "code",
   "execution_count": 34,
   "metadata": {},
   "outputs": [
    {
     "name": "stdout",
     "output_type": "stream",
     "text": [
      "[[0. 0. 1. ... 3. 0. 0.]\n",
      " [0. 1. 2. ... 1. 0. 1.]\n",
      " [0. 1. 1. ... 2. 1. 1.]\n",
      " ...\n",
      " [0. 0. 1. ... 3. 0. 0.]\n",
      " [0. 1. 2. ... 1. 0. 1.]\n",
      " [0. 1. 1. ... 2. 1. 1.]]\n"
     ]
    }
   ],
   "source": [
    "print(data)"
   ]
  },
  {
   "cell_type": "code",
   "execution_count": 35,
   "metadata": {},
   "outputs": [
    {
     "name": "stdout",
     "output_type": "stream",
     "text": [
      "[[-5.65833333 -5.65833333 -4.65833333 ... -2.65833333 -5.65833333\n",
      "  -5.65833333]\n",
      " [-5.65833333 -4.65833333 -3.65833333 ... -4.65833333 -5.65833333\n",
      "  -4.65833333]\n",
      " [-5.65833333 -4.65833333 -4.65833333 ... -3.65833333 -4.65833333\n",
      "  -4.65833333]\n",
      " ...\n",
      " [-5.65833333 -5.65833333 -4.65833333 ... -2.65833333 -5.65833333\n",
      "  -5.65833333]\n",
      " [-5.65833333 -4.65833333 -3.65833333 ... -4.65833333 -5.65833333\n",
      "  -4.65833333]\n",
      " [-5.65833333 -4.65833333 -4.65833333 ... -3.65833333 -4.65833333\n",
      "  -4.65833333]]\n"
     ]
    }
   ],
   "source": [
    "print(offset_mean(data,0))"
   ]
  },
  {
   "cell_type": "code",
   "execution_count": 41,
   "metadata": {},
   "outputs": [
    {
     "name": "stdout",
     "output_type": "stream",
     "text": [
      "std before and after offset: 4.352194529455482 4.352194529455482\n"
     ]
    }
   ],
   "source": [
    "offset_data = offset_mean(data,3)\n",
    "print('std before and after offset:', numpy.std(data), numpy.std(offset_data))"
   ]
  },
  {
   "cell_type": "markdown",
   "metadata": {},
   "source": [
    "# For Loops (Definite Loop)\n",
    "\n",
    "# While Loop (Indefinite Loop) "
   ]
  },
  {
   "cell_type": "code",
   "execution_count": 49,
   "metadata": {},
   "outputs": [
    {
     "name": "stdout",
     "output_type": "stream",
     "text": [
      "4\n",
      "3\n",
      "2\n",
      "1\n",
      "0\n"
     ]
    }
   ],
   "source": [
    "n = 5\n",
    "while n>0:\n",
    "        n-= 1 #decriment\n",
    "        print(n)"
   ]
  },
  {
   "cell_type": "code",
   "execution_count": 50,
   "metadata": {},
   "outputs": [
    {
     "name": "stdout",
     "output_type": "stream",
     "text": [
      "baz\n",
      "bar\n",
      "foo\n"
     ]
    }
   ],
   "source": [
    "a=['foo', 'bar', 'baz']\n",
    "while a:\n",
    "    print(a.pop(-1))"
   ]
  },
  {
   "cell_type": "code",
   "execution_count": 56,
   "metadata": {},
   "outputs": [
    {
     "name": "stdout",
     "output_type": "stream",
     "text": [
      "4\n",
      "3\n",
      "1\n",
      "0\n",
      "loop ended\n"
     ]
    }
   ],
   "source": [
    "n = 5\n",
    "while n>0:\n",
    "        n-= 1 #decriment\n",
    "        if n==2:\n",
    "                continue\n",
    "        print(n)\n",
    "print('loop ended')"
   ]
  },
  {
   "cell_type": "code",
   "execution_count": null,
   "metadata": {},
   "outputs": [],
   "source": []
  }
 ],
 "metadata": {
  "kernelspec": {
   "display_name": "Python 3",
   "language": "python",
   "name": "python3"
  },
  "language_info": {
   "codemirror_mode": {
    "name": "ipython",
    "version": 3
   },
   "file_extension": ".py",
   "mimetype": "text/x-python",
   "name": "python",
   "nbconvert_exporter": "python",
   "pygments_lexer": "ipython3",
   "version": "3.7.1"
  }
 },
 "nbformat": 4,
 "nbformat_minor": 4
}
