{
 "cells": [
  {
   "cell_type": "markdown",
   "metadata": {},
   "source": [
    "## 1a) Change the program below so that it reports the temperature in Fahrenheit or Celsius depending on user input. (We did this in class so you can repost your code if you finished it.)"
   ]
  },
  {
   "cell_type": "code",
   "execution_count": null,
   "metadata": {},
   "outputs": [],
   "source": [
    "xx = input(\"What is the temperature in Fahrenheit?\")\n",
    "yy = (float(xx) - 32) * 5 / 9\n",
    "print(\"The temperature in Celsius is {}\".format(yy))"
   ]
  },
  {
   "cell_type": "code",
   "execution_count": null,
   "metadata": {},
   "outputs": [],
   "source": [
    "#changing the code to report celsius to fahrenheit\n",
    "\n",
    "xx = input(\"What is the temperature in Celsius?\")\n",
    "yy = (float(xx) *9/5) +32\n",
    "print(\"The temperature in Fahrenheit is {}\".format(yy))"
   ]
  },
  {
   "cell_type": "markdown",
   "metadata": {},
   "source": [
    "## 1b) Modify your code above to robustly handle user input (as we discussed this\n",
    "## idea in class). The isdigit() function will likely be helpful."
   ]
  },
  {
   "cell_type": "code",
   "execution_count": null,
   "metadata": {},
   "outputs": [],
   "source": [
    "temp = input(\"Input the  temperature you'd like to convert? (example: 80F, 30C etc.) : \")\n",
    "degree = int(temp[:-1])  \n",
    "i_convention = temp[-1]\n",
    "\n",
    "if i_convention.upper() == \"C\":\n",
    "    result = int(round((9 * degree) / 5 + 32))\n",
    "    #i_convention.isdigit() = \"Fahrenheit\"\n",
    "elif i_convention.upper() == \"F\":\n",
    "    result = int(round((degree - 32) * 5 / 9))\n",
    "   # i_convention.isdigit() = \"Celsius\"\n",
    "else:\n",
    "    print(\"Input proper convention.\")\n",
    "    quit()\n",
    "    print(\"The temperature in\", i_convention, \"is\", result, \"degrees.\")\n",
    "    \n",
    "    ##unsure of the error"
   ]
  },
  {
   "cell_type": "markdown",
   "metadata": {},
   "source": [
    "## 1c) Change your code above so that it is a function."
   ]
  },
  {
   "cell_type": "code",
   "execution_count": null,
   "metadata": {},
   "outputs": [],
   "source": [
    "def convert_celsius_to_fahrenheit(celsius_temperature):\n",
    "    if celsius_temperature.isdigit():\n",
    "        fahrenheit_temperature = celsius_to_fahrenheit(celsius_temperature)\n",
    "        return fahrenheit_temperature\n",
    "\n",
    "def celsius_to_fahrenheit(celsius_temperature):\n",
    "    fahrenheit_temperature = (t * 1.8) + 32\n",
    "    return fahrenheit_temperature "
   ]
  },
  {
   "cell_type": "markdown",
   "metadata": {},
   "source": [
    "## 2a) Write a python block that will read the file Dalziel2016_data.csv, extract the cases from 1920, and write them to a new file."
   ]
  },
  {
   "cell_type": "code",
   "execution_count": null,
   "metadata": {},
   "outputs": [],
   "source": [
    "import os\n",
    "#pwd"
   ]
  },
  {
   "cell_type": "code",
   "execution_count": null,
   "metadata": {},
   "outputs": [],
   "source": [
    "with open(\"/Users/frida-p/Developer/repos/CSB/python/data/Dalziel2016_data.csv\") as fr:\n",
    "    reader = csv.DictReader(fr)\n",
    "    header = reader.fieldnames\n",
    "    with open(\"Dalziel2016_1920cases.csv\", \"w\") as fw:\n",
    "        writer = csv.DictWriter(fw, fieldnames = header, delimiter = \",\")\n",
    "        for row in reader:\n",
    "            if row[\"year\"] == \"1920\":\n",
    "                writer.writerow(row)"
   ]
  },
  {
   "cell_type": "markdown",
   "metadata": {},
   "source": [
    "## 2b) Write a python block that uses csv.DictReader (see example in Allesina and Wilmes, 3.7) to write the cases in Washington to a new file."
   ]
  },
  {
   "cell_type": "code",
   "execution_count": null,
   "metadata": {},
   "outputs": [],
   "source": [
    "with open(\"/Users/frida-p/Developer/repos/CSB/python/data/Dalziel2016_data.csv\") as fr:\n",
    "    reader = csv.DictReader(fr)\n",
    "    header = reader.fieldnames\n",
    "    with open(\"Dalziel2016_Washington.csv\", \"w\") as fw:\n",
    "        writer = csv.DictWriter(fw, fieldnames = header, delimiter = \",\")\n",
    "        for row in reader:\n",
    "            if row[\"year\"] == \"WASHINGTON\":\n",
    "                writer.writerow(row)"
   ]
  },
  {
   "cell_type": "markdown",
   "metadata": {},
   "source": [
    "## 2c) Write code that prints the loc and pop for all the rows in the file Dalziel2016_data.csv"
   ]
  },
  {
   "cell_type": "code",
   "execution_count": null,
   "metadata": {},
   "outputs": [],
   "source": [
    "import csv\n",
    "with open(\"/Users/frida-p/Developer/repos/CSB/python/data/Dalziel2016_data.csv\") as f:\n",
    "    reader = csv.DictReader(f)\n",
    "    for row in reader:\n",
    "        print(row[\"loc\"], row[\"pop\"])"
   ]
  },
  {
   "cell_type": "markdown",
   "metadata": {},
   "source": [
    "## 2d) Write code that takes user input to specify a location and that writes the records correpsonding to that location to a new file. Write one or more functions  in your code to handle the file reading and writing. Make this code robust to handle cases where no records exist for the specified input."
   ]
  },
  {
   "cell_type": "code",
   "execution_count": null,
   "metadata": {},
   "outputs": [],
   "source": [
    "## need to finish"
   ]
  },
  {
   "cell_type": "markdown",
   "metadata": {},
   "source": [
    "## 3a) Keep working with the file Dalziel2016_data.csv Write a program that extracts the names of all the cities in the database (one entry per city)."
   ]
  },
  {
   "cell_type": "code",
   "execution_count": 15,
   "metadata": {},
   "outputs": [
    {
     "name": "stdout",
     "output_type": "stream",
     "text": [
      "OrderedDict([('biweek', '1'), ('year', '1906'), ('loc', 'BALTIMORE'), ('cases', 'NA'), ('pop', '526822.1365')])\n"
     ]
    },
    {
     "data": {
      "text/plain": [
       "{'BALTIMORE',\n",
       " 'BOSTON',\n",
       " 'BRIDGEPORT',\n",
       " 'BUFFALO',\n",
       " 'CHICAGO',\n",
       " 'CINCINNATI',\n",
       " 'CLEVELAND',\n",
       " 'COLUMBUS',\n",
       " 'DENVER',\n",
       " 'DETROIT',\n",
       " 'DULUTH',\n",
       " 'FALL RIVER',\n",
       " 'GRAND RAPIDS',\n",
       " 'HARTFORD',\n",
       " 'INDIANAPOLIS',\n",
       " 'KANSAS CITY',\n",
       " 'LOS ANGELES',\n",
       " 'MILWAUKEE',\n",
       " 'MINNEAPOLIS',\n",
       " 'NASHVILLE',\n",
       " 'NEW HAVEN',\n",
       " 'NEW ORLEANS',\n",
       " 'NEW YORK',\n",
       " 'NEWARK',\n",
       " 'PHILADELPHIA',\n",
       " 'PITTSBURGH',\n",
       " 'PROVIDENCE',\n",
       " 'READING.US',\n",
       " 'RICHMOND',\n",
       " 'ROCHESTER',\n",
       " 'SALT LAKE CITY',\n",
       " 'SAN FRANCISCO',\n",
       " 'SEATTLE',\n",
       " 'SPOKANE',\n",
       " 'SPRINGFIELD',\n",
       " 'ST LOUIS',\n",
       " 'TOLEDO',\n",
       " 'TRENTON',\n",
       " 'WASHINGTON',\n",
       " 'WORCESTER'}"
      ]
     },
     "execution_count": 15,
     "metadata": {},
     "output_type": "execute_result"
    }
   ],
   "source": [
    "cities = set([]) #like creating a list but no duplicates\n",
    "\n",
    "#making csv into dict to be handled easier\n",
    "import csv\n",
    "with open('/Users/frida-p/Developer/repos/CSB/python/data/Dalziel2016_data.csv', 'r') as f: \n",
    "    my_csv = csv.DictReader(f) \n",
    "    for line in my_csv: # loop over all lines\n",
    "        print(line)\n",
    "        break # break the loop \n",
    "        \n",
    "\n",
    "with open('/Users/frida-p/Developer/repos/CSB/python/data/Dalziel2016_data.csv', 'r') as f: \n",
    "    my_csv = csv.DictReader(f)\n",
    "    for line in my_csv:\n",
    "        cities.add(line['loc'])  \n",
    "        \n",
    "        \n",
    "cities"
   ]
  },
  {
   "cell_type": "markdown",
   "metadata": {},
   "source": [
    "## 3b) Write a program that creates a dictionary where the keys are the cities and the values are the number of records (rows) for that city in the data."
   ]
  },
  {
   "cell_type": "code",
   "execution_count": 33,
   "metadata": {},
   "outputs": [],
   "source": [
    "citycnt = {} # dict\n",
    "import csv \n",
    "with open('/Users/frida-p/Developer/repos/CSB/python/data/Dalziel2016_data.csv', 'r') as f: \n",
    "        my_csv = csv.DictReader(f)\n",
    "        for line in my_csv:\n",
    "            city = line['loc']\n",
    "            citycnt[city] = citycnt.get(city, 0)\n",
    "            citycnt[city] = citycnt[city] + 1"
   ]
  },
  {
   "cell_type": "code",
   "execution_count": 38,
   "metadata": {},
   "outputs": [
    {
     "data": {
      "text/plain": [
       "1118"
      ]
     },
     "execution_count": 38,
     "metadata": {},
     "output_type": "execute_result"
    }
   ],
   "source": [
    "citycnt[\"LOS ANGELES\"]"
   ]
  },
  {
   "cell_type": "markdown",
   "metadata": {},
   "source": [
    "## 3c) Write a program that calculates the mean population for each city, obtained by averaging the values of pop."
   ]
  },
  {
   "cell_type": "code",
   "execution_count": 46,
   "metadata": {},
   "outputs": [],
   "source": [
    "citypop = {}\n",
    "with open('/Users/frida-p/Developer/repos/CSB/python/data/Dalziel2016_data.csv', 'r') as f: \n",
    "    my_csv = csv.DictReader(f)\n",
    "    for line in my_csv:\n",
    "        mycity = line['loc']\n",
    "        pop = float(line['pop']) # transform to float\n",
    "        citypop[mycity] = citypop.get(mycity, [0,0])\n",
    "        citypop[mycity][0] = citypop[mycity][0] + pop\n",
    "        citypop[mycity][1] = citypop[mycity][1] + 1\n",
    "        \n",
    "        \n",
    "        \n",
    "for city in citypop.keys():\n",
    "    citypop[city][0] = citypop[city][0] / citypop[city][1]\n"
   ]
  },
  {
   "cell_type": "code",
   "execution_count": 45,
   "metadata": {},
   "outputs": [
    {
     "data": {
      "text/plain": [
       "[1010929.958161717, 1118]"
      ]
     },
     "execution_count": 45,
     "metadata": {},
     "output_type": "execute_result"
    }
   ],
   "source": [
    "citypop[\"LOS ANGELES\"]"
   ]
  },
  {
   "cell_type": "markdown",
   "metadata": {},
   "source": [
    "## 3d) Write a program that calculates the mean population for each city and year."
   ]
  },
  {
   "cell_type": "code",
   "execution_count": 48,
   "metadata": {},
   "outputs": [],
   "source": [
    "cityyear = {}\n",
    "\n",
    "cityyear = {}\n",
    "import csv \n",
    "with open('/Users/frida-p/Developer/repos/CSB/python/data/Dalziel2016_data.csv', 'r') as f: \n",
    "    my_csv = csv.DictReader(f)\n",
    "    for line in my_csv:\n",
    "        mycity = line['loc']\n",
    "        year = line['year']\n",
    "        pop = float(line['pop']) \n",
    "        cityyear[mycity] = cityyear.get(mycity, {})\n",
    "        cityyear[mycity][year] = cityyear[mycity].get(year, [0,0]) #indexing  dict\n",
    "        cityyear[mycity][year][0] = cityyear[mycity][year][0] + pop\n",
    "        cityyear[mycity][year][1] = cityyear[mycity][year][1] + 1\n",
    "\n",
    "for city in cityyear.keys():\n",
    "    for year in cityyear[city].keys():\n",
    "        cityyear[city][year][0] = cityyear[city][year][0] / cityyear[city][year][1]"
   ]
  },
  {
   "cell_type": "code",
   "execution_count": 49,
   "metadata": {},
   "outputs": [
    {
     "name": "stdout",
     "output_type": "stream",
     "text": [
      "1906 245419\n",
      "1907 267999\n",
      "1908 289495\n",
      "1909 309475\n",
      "1910 327564\n",
      "1911 344083\n",
      "1912 360079\n",
      "1913 376669\n",
      "1914 394967\n",
      "1915 416091\n",
      "1916 441157\n",
      "1917 471281\n",
      "1918 507580\n",
      "1919 551169\n",
      "1920 603050\n",
      "1921 662895\n",
      "1922 728982\n",
      "1923 799462\n",
      "1924 872481\n",
      "1925 946186\n",
      "1926 1018727\n",
      "1927 1088250\n",
      "1928 1152904\n",
      "1929 1210836\n",
      "1930 1260323\n",
      "1931 1301145\n",
      "1932 1334650\n",
      "1933 1362337\n",
      "1934 1385703\n",
      "1935 1406247\n",
      "1936 1425467\n",
      "1937 1444863\n",
      "1938 1465931\n",
      "1939 1490171\n",
      "1940 1519000\n",
      "1941 1552910\n",
      "1942 1591422\n",
      "1943 1633964\n",
      "1944 1679966\n",
      "1945 1728857\n",
      "1946 1780065\n",
      "1947 1833018\n",
      "1948 1887147\n"
     ]
    }
   ],
   "source": [
    "# storing years in a list\n",
    "years = list(cityyear['LOS ANGELES'].keys())\n",
    "# sort the years\n",
    "years.sort() \n",
    "for year in years:\n",
    "    print(year, round(cityyear['LOS ANGELES'][year][0]))"
   ]
  },
  {
   "cell_type": "code",
   "execution_count": 51,
   "metadata": {},
   "outputs": [
    {
     "data": {
      "text/plain": [
       "{'1906': [634798.4441576924, 26],\n",
       " '1907': [645359.6596499999, 26],\n",
       " '1908': [655619.5143423076, 26],\n",
       " '1909': [665551.1669884616, 26],\n",
       " '1910': [675128.8580884616, 26],\n",
       " '1911': [684339.4264076923, 26],\n",
       " '1912': [693182.8490115384, 26],\n",
       " '1913': [701660.3647115384, 26],\n",
       " '1914': [709773.2123423077, 26],\n",
       " '1915': [717522.630673077, 26],\n",
       " '1916': [724909.8585461539, 26],\n",
       " '1917': [731936.1347538462, 26],\n",
       " '1918': [738602.6981038463, 26],\n",
       " '1919': [744910.7874038462, 26],\n",
       " '1920': [750859.6333653847, 26],\n",
       " '1921': [756425.0797192308, 26],\n",
       " '1922': [761558.5806807694, 26],\n",
       " '1923': [766209.2483038462, 26],\n",
       " '1924': [770326.1945769233, 26],\n",
       " '1925': [773858.5315230768, 26],\n",
       " '1926': [776755.3711384615, 26],\n",
       " '1927': [778965.8254846154, 26],\n",
       " '1928': [780439.0065346155, 26],\n",
       " '1929': [781124.0263230768, 26],\n",
       " '1930': [780979.9467615384, 26],\n",
       " '1931': [780081.7100769231, 26],\n",
       " '1932': [778625.1058692307, 26],\n",
       " '1933': [776817.5292576923, 26],\n",
       " '1934': [774866.3753692308, 26],\n",
       " '1935': [772979.0393461537, 26],\n",
       " '1936': [771362.9163038462, 26],\n",
       " '1937': [770225.4013769231, 26],\n",
       " '1938': [769773.8897, 26],\n",
       " '1939': [770215.776396154, 26],\n",
       " '1940': [771740.0006192307, 26],\n",
       " '1941': [774320.5557999997, 26],\n",
       " '1942': [777707.2764884614, 26],\n",
       " '1943': [781628.4701384612, 26],\n",
       " '1944': [785812.4442269229, 26],\n",
       " '1945': [789987.5061884616, 26],\n",
       " '1946': [793881.9635230771, 26],\n",
       " '1947': [797224.1236884614, 26],\n",
       " '1948': [799742.2941769231, 26]}"
      ]
     },
     "execution_count": 51,
     "metadata": {},
     "output_type": "execute_result"
    }
   ],
   "source": [
    "cityyear[\"BOSTON\"]"
   ]
  },
  {
   "cell_type": "markdown",
   "metadata": {},
   "source": [
    "## 4) Singh et al. (2015) show that, when infected with a parasite, the four genetic lines of D. melanogaster respond by increasing the production of recombinant offspring (arguably, trying to produce new recombinants able to escape the parasite). They show that the same outcome is not achieved by artificially wounding the flies. The data needed to replicate the main claim (figure 2 of the original article) is contained in the file Singh2015_data.csv in your data directory. Open the file, and compute the mean RecombinantFraction for each Drosophila Line, and InfectionStatus (W for wounded and I for infected). Print the results in the following form:"
   ]
  },
  {
   "cell_type": "code",
   "execution_count": null,
   "metadata": {},
   "outputs": [],
   "source": [
    "Line 45 Average Recombination Rate:\n",
    "W : 0.187\n",
    "I : 0.191."
   ]
  },
  {
   "cell_type": "code",
   "execution_count": 52,
   "metadata": {},
   "outputs": [
    {
     "name": "stdout",
     "output_type": "stream",
     "text": [
      "21 I 0.1826923077\n"
     ]
    }
   ],
   "source": [
    "my_data = {}\n",
    "\n",
    "\n",
    "with open('/Users/frida-p/Developer/repos/CSB/python/data/Singh2015_data.csv') as csvfile:\n",
    "    reader = csv.DictReader(csvfile)\n",
    "    for row in reader:\n",
    "        my_line = row['Line']\n",
    "        my_status = row['InfectionStatus']\n",
    "        my_recomb = float(row['RecombinantFraction'])\n",
    "        print(my_line, my_status, my_recomb)\n",
    "        break"
   ]
  },
  {
   "cell_type": "code",
   "execution_count": 53,
   "metadata": {},
   "outputs": [],
   "source": [
    "with open('/Users/frida-p/Developer/repos/CSB/python/data/Singh2015_data.csv') as csvfile:\n",
    "    reader = csv.DictReader(csvfile)\n",
    "    for row in reader:\n",
    "        my_line = row['Line']\n",
    "        my_status = row['InfectionStatus']\n",
    "        my_recomb = float(row['RecombinantFraction'])\n",
    "        if my_line not in my_data:\n",
    "            # create and initialize with a dictionary containing?\n",
    "            my_data[my_line] = {'W': [], 'I': []}\n",
    "        my_data[my_line][my_status].append(my_recomb)"
   ]
  },
  {
   "cell_type": "code",
   "execution_count": 54,
   "metadata": {},
   "outputs": [
    {
     "name": "stdout",
     "output_type": "stream",
     "text": [
      "Line 21 Average Recombination Rate:\n",
      "W :  0.178\n",
      "I :  0.2\n",
      "\n",
      "Line 40 Average Recombination Rate:\n",
      "W :  0.178\n",
      "I :  0.18\n",
      "\n",
      "Line 45 Average Recombination Rate:\n",
      "W :  0.187\n",
      "I :  0.191\n",
      "\n",
      "Line 73 Average Recombination Rate:\n",
      "W :  0.179\n",
      "I :  0.199\n",
      "\n"
     ]
    }
   ],
   "source": [
    "for line in my_data:\n",
    "    print('Line', line, 'Average Recombination Rate:')\n",
    "    my_subset = my_data[line]\n",
    "    for status in ['W', 'I']:\n",
    "        print(status, ':', end = '') # prevent new line\n",
    "        my_mean = sum(my_subset[status])\n",
    "        my_num_elements = len(my_subset[status])\n",
    "        my_mean = my_mean / my_num_elements\n",
    "        print(' ', round(my_mean, 3))\n",
    "    print('') # to separate the lines"
   ]
  },
  {
   "cell_type": "code",
   "execution_count": null,
   "metadata": {},
   "outputs": [],
   "source": []
  }
 ],
 "metadata": {
  "kernelspec": {
   "display_name": "Python 3",
   "language": "python",
   "name": "python3"
  },
  "language_info": {
   "codemirror_mode": {
    "name": "ipython",
    "version": 3
   },
   "file_extension": ".py",
   "mimetype": "text/x-python",
   "name": "python",
   "nbconvert_exporter": "python",
   "pygments_lexer": "ipython3",
   "version": "3.7.4"
  }
 },
 "nbformat": 4,
 "nbformat_minor": 4
}
