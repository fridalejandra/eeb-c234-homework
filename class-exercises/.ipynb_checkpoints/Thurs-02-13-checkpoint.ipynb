{
 "cells": [
  {
   "cell_type": "code",
   "execution_count": null,
   "metadata": {},
   "outputs": [],
   "source": [
    "zz = input(\"enter temperature ie 0 C Or 32 F\")\n",
    "if zz[-1]== \"C\":\n",
    "    xx=zz[0:-2]\n",
    "    yy=float(xx)*9/5 +32\n",
    "    print(\"the temp in F is {}\".format(yy))\n",
    "if zz[-1]== \"F\":\n",
    "    xx=zz[0:-2]\n",
    "    yy=float(xx)-32* 5/9\n",
    "    print(\"the temp in C is {}\".format(yy))\n",
    "else:\n",
    "    print(\"{} is not a valid formatting option\".format(zz))"
   ]
  },
  {
   "cell_type": "code",
   "execution_count": null,
   "metadata": {},
   "outputs": [],
   "source": [
    "xx = input(\"What is the temperature?\")\n",
    "\n",
    "units = input(\"Would you like to convert to [0] Celsius ot [1] Farenheit?\")\n",
    "if(units.isdigit()):\n",
    "    print(units)\n",
    "    if int(units) ==0:\n",
    "        yy= (float(xx)-32) *5/9\n",
    "        print(\"The temperature in celsius id {}\".format(yy))\n",
    "elif int(units)== 1:\n",
    "    yy=(float(xx)-32)*\n"
   ]
  },
  {
   "cell_type": "code",
   "execution_count": null,
   "metadata": {},
   "outputs": [],
   "source": [
    "myDNA = \"aatcgtgta\\ntgactggta\"\n",
    "print(myDNA)"
   ]
  },
  {
   "cell_type": "code",
   "execution_count": null,
   "metadata": {},
   "outputs": [],
   "source": [
    "with open(\"dnaseq.txt\", \"w\") as wf:\n",
    "    for line in myDNA:\n",
    "        wf.write(line)"
   ]
  },
  {
   "cell_type": "code",
   "execution_count": null,
   "metadata": {},
   "outputs": [],
   "source": [
    "ls"
   ]
  },
  {
   "cell_type": "code",
   "execution_count": null,
   "metadata": {},
   "outputs": [],
   "source": [
    "with open(\"dnaseq.txt\", \"r\") as rf:\n",
    "    for line in rf:\n",
    "        print(line)"
   ]
  },
  {
   "cell_type": "code",
   "execution_count": null,
   "metadata": {},
   "outputs": [],
   "source": [
    "datapath = \"/Users/frida-p/Developer/repos/CSB/python/data\"\n",
    "os.chdir(datapath)"
   ]
  },
  {
   "cell_type": "code",
   "execution_count": null,
   "metadata": {},
   "outputs": [],
   "source": [
    "dd=[]\n",
    "with open (\"Dalziel2016_data.csv\", \"r\") as ff:\n",
    "    for line in ff:\n",
    "        dd.append(line)\n",
    "        print(line)\n",
    "\n"
   ]
  },
  {
   "cell_type": "code",
   "execution_count": null,
   "metadata": {},
   "outputs": [],
   "source": [
    "print(dd)"
   ]
  },
  {
   "cell_type": "code",
   "execution_count": null,
   "metadata": {},
   "outputs": [],
   "source": []
  }
 ],
 "metadata": {
  "kernelspec": {
   "display_name": "Python 3",
   "language": "python",
   "name": "python3"
  },
  "language_info": {
   "codemirror_mode": {
    "name": "ipython",
    "version": 3
   },
   "file_extension": ".py",
   "mimetype": "text/x-python",
   "name": "python",
   "nbconvert_exporter": "python",
   "pygments_lexer": "ipython3",
   "version": "3.7.1"
  }
 },
 "nbformat": 4,
 "nbformat_minor": 4
}
